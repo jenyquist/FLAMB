{
 "metadata": {
  "name": "",
  "signature": "sha256:3c6622924367e9f8b69b386d6845d3d8e4ab203bf5f40d798cb340e0cf5e7687"
 },
 "nbformat": 3,
 "nbformat_minor": 0,
 "worksheets": [
  {
   "cells": [
    {
     "cell_type": "markdown",
     "metadata": {},
     "source": [
      "Matlab  Version\n",
      "\n",
      "Example 1\n",
      "Integrate ysin(x)+xcos(y) over \u03c0\u2264x\u22642\u03c0, 0\u2264y\u2264\u03c0. The true value of the integral is \u2212\u03c0 squared.\n",
      "\n",
      "Q = quad2d(@(x,y) ysin(x)+xcos(y),pi,2*pi,0,pi)"
     ]
    },
    {
     "cell_type": "raw",
     "metadata": {},
     "source": []
    },
    {
     "cell_type": "code",
     "collapsed": false,
     "input": [
      "# Try to reproduce the Matlab example\n",
      "# Notice that the limits of the x-integral are writen as functions.\n",
      "from scipy.integrate import quad, dblquad\n",
      "from math import *\n",
      "I = dblquad(lambda x, y: y*sin(x) + x*cos(y), 0, pi, \n",
      "            lambda x: pi, lambda x:2*pi)\n",
      "print(I)\n",
      "print pi**2\n",
      "err = I[0] + pi**2\n",
      "print(err)"
     ],
     "language": "python",
     "metadata": {},
     "outputs": [
      {
       "output_type": "stream",
       "stream": "stdout",
       "text": [
        "(-9.869604401089354, 3.8998131697641544e-13)\n",
        "9.86960440109\n",
        "3.5527136788e-15\n"
       ]
      }
     ],
     "prompt_number": 17
    },
    {
     "cell_type": "code",
     "collapsed": false,
     "input": [],
     "language": "python",
     "metadata": {},
     "outputs": []
    },
    {
     "cell_type": "code",
     "collapsed": false,
     "input": [],
     "language": "python",
     "metadata": {},
     "outputs": []
    }
   ],
   "metadata": {}
  }
 ]
}